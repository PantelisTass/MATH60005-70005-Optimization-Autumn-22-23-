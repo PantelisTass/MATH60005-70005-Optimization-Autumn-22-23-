{
 "cells": [
  {
   "cell_type": "code",
   "execution_count": 54,
   "metadata": {},
   "outputs": [],
   "source": [
    "#Problem Sheet 4 - Quadratic minimistation\n",
    "\n",
    "from scipy.linalg import hilbert\n",
    "from scipy.linalg import norm\n",
    "import numpy as np\n",
    "\n",
    "#1 backtracking\n",
    "A = hilbert(5)\n",
    "f = lambda x: np.dot(x, np.matmul(A,x))\n",
    "Gf = lambda x: 2*np.matmul(A,x)\n",
    "x0 = [1,2,3,4,5]\n",
    "ϵ = 10**(-4)\n",
    "\n",
    "\n",
    "def backtracking(α, β, s, x0):\n",
    "    x = x0\n",
    "    n = 0 \n",
    "    G = norm(Gf(x))\n",
    "    grad = Gf(x)\n",
    "    func = f(x)\n",
    "    while G > ϵ :\n",
    "        n+=1\n",
    "        t = s\n",
    "        d = - grad\n",
    "        while (f(x)-f(x+t*d)+α*t*np.dot(Gf(x),d)) < 0:\n",
    "            t = β*t\n",
    "        x = x + t*d\n",
    "        func = f(x)\n",
    "        G = norm(Gf(x))\n",
    "        grad = Gf(x)\n",
    "    return n\n",
    "\n",
    "def exact_scaled(x0):\n",
    "    n = 0\n",
    "    x = x0\n",
    "    v = [1/A[i,i] for i in range(np.shape(A)[1])]\n",
    "    D = np.diag(v)\n",
    "    n = 0 \n",
    "    while norm(Gf(x))>ϵ:\n",
    "        n+=1\n",
    "        d = - np.matmul(D, Gf(x))\n",
    "        t = -np.dot(x, np.matmul(A, d))/np.dot(d, np.matmul(A, d))\n",
    "        x = x + t*d\n",
    "    return n\n",
    "\n",
    "def exact_scaled_backtracking(α, β, s, x0):\n",
    "    x = x0\n",
    "    v = [1/A[i,i] for i in range(np.shape(A)[1])]\n",
    "    D = np.diag(v)\n",
    "    n = 0 \n",
    "    G = norm(Gf(x))\n",
    "    grad = Gf(x)\n",
    "    func = f(x)\n",
    "    while norm(Gf(x))>ϵ:\n",
    "        n+=1\n",
    "        d = - np.matmul(D, Gf(x))\n",
    "        t = s\n",
    "        while (f(x)-f(x+t*d)+α*t*np.dot(Gf(x),d)) < 0:\n",
    "            t *= β\n",
    "        x = x + t*d\n",
    "        func = f(x)\n",
    "        G = norm(Gf(x))\n",
    "        grad = Gf(x)\n",
    "    return n\n",
    "\n",
    "    "
   ]
  },
  {
   "cell_type": "code",
   "execution_count": 55,
   "metadata": {},
   "outputs": [
    {
     "data": {
      "text/plain": [
       "3301"
      ]
     },
     "execution_count": 55,
     "metadata": {},
     "output_type": "execute_result"
    }
   ],
   "source": [
    "backtracking(0.5, 0.5, 1, x0)"
   ]
  },
  {
   "cell_type": "code",
   "execution_count": 56,
   "metadata": {},
   "outputs": [
    {
     "data": {
      "text/plain": [
       "23109"
      ]
     },
     "execution_count": 56,
     "metadata": {},
     "output_type": "execute_result"
    }
   ],
   "source": [
    "backtracking(0.1, 0.5, 0.1, x0)"
   ]
  },
  {
   "cell_type": "code",
   "execution_count": 57,
   "metadata": {},
   "outputs": [
    {
     "data": {
      "text/plain": [
       "235"
      ]
     },
     "execution_count": 57,
     "metadata": {},
     "output_type": "execute_result"
    }
   ],
   "source": [
    "exact_scaled(x0)"
   ]
  },
  {
   "cell_type": "code",
   "execution_count": 58,
   "metadata": {},
   "outputs": [
    {
     "data": {
      "text/plain": [
       "104"
      ]
     },
     "execution_count": 58,
     "metadata": {},
     "output_type": "execute_result"
    }
   ],
   "source": [
    "exact_scaled_backtracking(0.1, 0.5, 1, x0)"
   ]
  }
 ],
 "metadata": {
  "kernelspec": {
   "display_name": "Python 3",
   "language": "python",
   "name": "python3"
  },
  "language_info": {
   "codemirror_mode": {
    "name": "ipython",
    "version": 3
   },
   "file_extension": ".py",
   "mimetype": "text/x-python",
   "name": "python",
   "nbconvert_exporter": "python",
   "pygments_lexer": "ipython3",
   "version": "3.8.3"
  }
 },
 "nbformat": 4,
 "nbformat_minor": 4
}
